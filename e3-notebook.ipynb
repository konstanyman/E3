{
 "cells": [
  {
   "cell_type": "markdown",
   "metadata": {},
   "source": [
    "<h1>Exercise 3</h1>"
   ]
  },
  {
   "cell_type": "code",
   "execution_count": 27,
   "metadata": {},
   "outputs": [],
   "source": [
    "# imports\n",
    "\n",
    "import numpy as N\n",
    "import pandas as P\n",
    "import scipy.stats as S"
   ]
  },
  {
   "cell_type": "markdown",
   "metadata": {},
   "source": [
    "<h2>1.</h2>"
   ]
  },
  {
   "cell_type": "code",
   "execution_count": 28,
   "metadata": {},
   "outputs": [],
   "source": [
    "# create dataset vectors\n",
    "\n",
    "A = P.Series([33, 23, 51, 47, 34])\n",
    "\n",
    "B = P.Series([48, 27, 33, 45, 41, 35])\n",
    "\n",
    "C = P.Series([34, 53, 54, 28, 52, 29])"
   ]
  },
  {
   "cell_type": "markdown",
   "metadata": {},
   "source": [
    "Find P-values for suitable statistical test comparing A&B, A&C and B&C. Justify your\n",
    "selection of the test."
   ]
  },
  {
   "cell_type": "code",
   "execution_count": 29,
   "metadata": {},
   "outputs": [
    {
     "name": "stdout",
     "output_type": "stream",
     "text": [
      "0.655329704284668\n",
      "0.8777003288269043\n",
      "0.048212990164756775\n"
     ]
    }
   ],
   "source": [
    "# first lets check if datasets are normally distributed with shapiro-wilk-test\n",
    "\n",
    "p_A = S.shapiro(A).pvalue\n",
    "print(p_A)\n",
    "\n",
    "p_B = S.shapiro(B).pvalue\n",
    "print(p_B)\n",
    "\n",
    "p_C = S.shapiro(C).pvalue\n",
    "print(p_C)"
   ]
  },
  {
   "cell_type": "markdown",
   "metadata": {},
   "source": [
    "Null hypothesis can only be rejected for dataset C, so we'll assume that datasets A and B are normally distributed and C is not. (cannot be sure because of very small sample size)"
   ]
  },
  {
   "cell_type": "markdown",
   "metadata": {},
   "source": [
    "Finding p-values for suitable tests"
   ]
  },
  {
   "cell_type": "code",
   "execution_count": 30,
   "metadata": {},
   "outputs": [
    {
     "data": {
      "text/plain": [
       "TtestResult(statistic=-0.09756393228543812, pvalue=0.9244167905269259, df=9.0)"
      ]
     },
     "execution_count": 30,
     "metadata": {},
     "output_type": "execute_result"
    }
   ],
   "source": [
    "# A&B\n",
    "\n",
    "# Unpaired students t-test, because two normal unpaired variables\n",
    "\n",
    "S.ttest_ind(A, B)\n"
   ]
  },
  {
   "cell_type": "code",
   "execution_count": 31,
   "metadata": {},
   "outputs": [
    {
     "data": {
      "text/plain": [
       "MannwhitneyuResult(statistic=10.5, pvalue=0.46419164680396885)"
      ]
     },
     "execution_count": 31,
     "metadata": {},
     "output_type": "execute_result"
    }
   ],
   "source": [
    "# A&C\n",
    "\n",
    "# Because C is not normally distributed and variables are unpaired we'll use Mann-Whitney U test\n",
    "\n",
    "S.mannwhitneyu(A, C, use_continuity=True, alternative='two-sided')"
   ]
  },
  {
   "cell_type": "code",
   "execution_count": 32,
   "metadata": {},
   "outputs": [
    {
     "data": {
      "text/plain": [
       "WilcoxonResult(statistic=8.0, pvalue=0.6875)"
      ]
     },
     "execution_count": 32,
     "metadata": {},
     "output_type": "execute_result"
    }
   ],
   "source": [
    "# B&C\n",
    "\n",
    "# Variable can be paired and C is not normally distributed -> Wilcoxon signed-rank test\n",
    "\n",
    "S.wilcoxon(B, C, correction=True)"
   ]
  },
  {
   "cell_type": "markdown",
   "metadata": {},
   "source": [
    "<h2>2.</h2>"
   ]
  },
  {
   "cell_type": "markdown",
   "metadata": {},
   "source": [
    "<h3>Article 2</h3>"
   ]
  },
  {
   "cell_type": "markdown",
   "metadata": {},
   "source": [
    "a)\n",
    "two tailed-Wilcoxon rank-sum tests\n",
    "\n",
    "b)\n",
    "two-tailed Wilcoxon rank-sum tests\n",
    "\n",
    "c)\n",
    "One-way ANOVA with post hoc Bonferroni correction\n",
    "\n",
    "d)\n",
    "Two-tailed Student’s t-test"
   ]
  },
  {
   "cell_type": "markdown",
   "metadata": {},
   "source": [
    "<h3>Article 3</h3>"
   ]
  },
  {
   "cell_type": "markdown",
   "metadata": {},
   "source": [
    "There are a different number of observations or units in the training and test sets so cohorts must be unpaired. There are many different kinds of variables so different tests were used. \n",
    "\n",
    "I think Pearson's chi-squared test was user for categorical variables such as sex, history of CVD, race, statin use, aspirin use and smoking. \n",
    "\n",
    "Then either unpaired Student's t test or unpaired Mann-Whitney U test was used for the rest of the variables depending on if they were normally distributed or not."
   ]
  },
  {
   "cell_type": "markdown",
   "metadata": {},
   "source": [
    "<h2>3.</h2>"
   ]
  },
  {
   "cell_type": "code",
   "execution_count": 33,
   "metadata": {},
   "outputs": [],
   "source": [
    "# create vectors\n",
    "\n",
    "DT = P.Series([5.6, 3.1, 8.7, 4.5, 6.7, 4.5])\n",
    "DR = P.Series([6.1, 5.8, 8.5, 5.3, 7.2, 5.1])\n",
    "\n",
    "ET = P.Series([4.5, 3.9, 7.1, 4.3, 6.9, 8.2, 7.6])\n",
    "ER = P.Series([4.9, 4.7, 7.8, 4.8, 7.5, 7.8, 8.1])"
   ]
  },
  {
   "cell_type": "code",
   "execution_count": 34,
   "metadata": {},
   "outputs": [
    {
     "name": "stdout",
     "output_type": "stream",
     "text": [
      "0.8002392649650574\n",
      "0.3768615424633026\n",
      "0.16666603088378906\n",
      "0.014585546217858791\n"
     ]
    }
   ],
   "source": [
    "# Shapiro-Wilk tests\n",
    "\n",
    "p_DT = S.shapiro(DT).pvalue\n",
    "print(p_DT)\n",
    "\n",
    "p_DR = S.shapiro(DR).pvalue\n",
    "print(p_DR)\n",
    "\n",
    "p_ET = S.shapiro(ET).pvalue\n",
    "print(p_ET)\n",
    "\n",
    "p_ER = S.shapiro(ER).pvalue\n",
    "print(p_ER)"
   ]
  },
  {
   "cell_type": "code",
   "execution_count": 35,
   "metadata": {},
   "outputs": [
    {
     "data": {
      "text/plain": [
       "TtestResult(statistic=-2.0356674603124167, pvalue=0.09740501217589806, df=5)"
      ]
     },
     "execution_count": 35,
     "metadata": {},
     "output_type": "execute_result"
    }
   ],
   "source": [
    "# a)\n",
    "\n",
    "# Paired t-test for group D because both propably normal\n",
    "\n",
    "S.ttest_rel(DT, DR)"
   ]
  },
  {
   "cell_type": "code",
   "execution_count": 36,
   "metadata": {},
   "outputs": [
    {
     "data": {
      "text/plain": [
       "WilcoxonResult(statistic=1.0, pvalue=0.03125)"
      ]
     },
     "execution_count": 36,
     "metadata": {},
     "output_type": "execute_result"
    }
   ],
   "source": [
    "# b)\n",
    "\n",
    "# Wilcoxon signed-rank test for group E because paired and at least one is not normal\n",
    "\n",
    "S.wilcoxon(ET, ER, correction=True)"
   ]
  },
  {
   "cell_type": "code",
   "execution_count": 37,
   "metadata": {},
   "outputs": [
    {
     "data": {
      "text/plain": [
       "TtestResult(statistic=-0.5338123773806961, pvalue=0.6040909505950958, df=11.0)"
      ]
     },
     "execution_count": 37,
     "metadata": {},
     "output_type": "execute_result"
    }
   ],
   "source": [
    "# c)\n",
    "\n",
    "# Unpaired and both propably normal so unpaired t-test\n",
    "\n",
    "S.ttest_ind(DT, ET)"
   ]
  },
  {
   "cell_type": "code",
   "execution_count": 38,
   "metadata": {},
   "outputs": [
    {
     "data": {
      "text/plain": [
       "MannwhitneyuResult(statistic=22.0, pvalue=0.9429784240576059)"
      ]
     },
     "execution_count": 38,
     "metadata": {},
     "output_type": "execute_result"
    }
   ],
   "source": [
    "# d)\n",
    "\n",
    "# Unpaired and at least one not normal so Mann-Whitney U test\n",
    "\n",
    "S.mannwhitneyu(DR, ER, use_continuity=True, alternative='two-sided')"
   ]
  },
  {
   "cell_type": "markdown",
   "metadata": {},
   "source": [
    "<h2>4.</h2>"
   ]
  },
  {
   "cell_type": "code",
   "execution_count": 39,
   "metadata": {},
   "outputs": [
    {
     "data": {
      "text/plain": [
       "PearsonRResult(statistic=0.9773664314916523, pvalue=0.0001462345886124403)"
      ]
     },
     "execution_count": 39,
     "metadata": {},
     "output_type": "execute_result"
    }
   ],
   "source": [
    "# a)\n",
    "\n",
    "S.pearsonr(ET, ER)"
   ]
  },
  {
   "cell_type": "code",
   "execution_count": 40,
   "metadata": {},
   "outputs": [
    {
     "data": {
      "text/plain": [
       "SignificanceResult(statistic=0.9369749612033814, pvalue=0.0018510301964418906)"
      ]
     },
     "execution_count": 40,
     "metadata": {},
     "output_type": "execute_result"
    }
   ],
   "source": [
    "# b)\n",
    "\n",
    "S.spearmanr(ET, ER)"
   ]
  },
  {
   "cell_type": "code",
   "execution_count": 41,
   "metadata": {},
   "outputs": [],
   "source": [
    "# c)\n",
    "\n",
    "# ranked groups\n",
    "\n",
    "ranked_ET = P.Series([3, 1, 5, 2, 4, 7, 6])\n",
    "ranked_ER = P.Series([3, 1, 5.5, 2, 4, 5.5, 7])"
   ]
  },
  {
   "cell_type": "code",
   "execution_count": 42,
   "metadata": {},
   "outputs": [
    {
     "data": {
      "text/plain": [
       "PearsonRResult(statistic=0.9369749612033812, pvalue=0.0018510301964419162)"
      ]
     },
     "execution_count": 42,
     "metadata": {},
     "output_type": "execute_result"
    }
   ],
   "source": [
    "# d)\n",
    "\n",
    "S.pearsonr(ranked_ET, ranked_ER)"
   ]
  },
  {
   "cell_type": "markdown",
   "metadata": {},
   "source": [
    "<h2>5.</h2>"
   ]
  },
  {
   "cell_type": "code",
   "execution_count": 43,
   "metadata": {},
   "outputs": [
    {
     "data": {
      "text/html": [
       "<div>\n",
       "<style scoped>\n",
       "    .dataframe tbody tr th:only-of-type {\n",
       "        vertical-align: middle;\n",
       "    }\n",
       "\n",
       "    .dataframe tbody tr th {\n",
       "        vertical-align: top;\n",
       "    }\n",
       "\n",
       "    .dataframe thead th {\n",
       "        text-align: right;\n",
       "    }\n",
       "</style>\n",
       "<table border=\"1\" class=\"dataframe\">\n",
       "  <thead>\n",
       "    <tr style=\"text-align: right;\">\n",
       "      <th></th>\n",
       "      <th>F</th>\n",
       "      <th>G</th>\n",
       "      <th>H</th>\n",
       "      <th>I</th>\n",
       "    </tr>\n",
       "  </thead>\n",
       "  <tbody>\n",
       "    <tr>\n",
       "      <th>1</th>\n",
       "      <td>27.42</td>\n",
       "      <td>24.02</td>\n",
       "      <td>0.00</td>\n",
       "      <td>9.96</td>\n",
       "    </tr>\n",
       "    <tr>\n",
       "      <th>2</th>\n",
       "      <td>-11.29</td>\n",
       "      <td>20.90</td>\n",
       "      <td>4.67</td>\n",
       "      <td>5.66</td>\n",
       "    </tr>\n",
       "    <tr>\n",
       "      <th>3</th>\n",
       "      <td>7.26</td>\n",
       "      <td>-20.06</td>\n",
       "      <td>6.34</td>\n",
       "      <td>15.53</td>\n",
       "    </tr>\n",
       "    <tr>\n",
       "      <th>4</th>\n",
       "      <td>12.66</td>\n",
       "      <td>36.97</td>\n",
       "      <td>8.12</td>\n",
       "      <td>6.08</td>\n",
       "    </tr>\n",
       "    <tr>\n",
       "      <th>5</th>\n",
       "      <td>8.09</td>\n",
       "      <td>-13.34</td>\n",
       "      <td>1.25</td>\n",
       "      <td>10.31</td>\n",
       "    </tr>\n",
       "    <tr>\n",
       "      <th>...</th>\n",
       "      <td>...</td>\n",
       "      <td>...</td>\n",
       "      <td>...</td>\n",
       "      <td>...</td>\n",
       "    </tr>\n",
       "    <tr>\n",
       "      <th>96</th>\n",
       "      <td>-17.22</td>\n",
       "      <td>21.72</td>\n",
       "      <td>3.05</td>\n",
       "      <td>14.14</td>\n",
       "    </tr>\n",
       "    <tr>\n",
       "      <th>97</th>\n",
       "      <td>-22.63</td>\n",
       "      <td>8.08</td>\n",
       "      <td>3.67</td>\n",
       "      <td>10.70</td>\n",
       "    </tr>\n",
       "    <tr>\n",
       "      <th>98</th>\n",
       "      <td>-29.18</td>\n",
       "      <td>11.73</td>\n",
       "      <td>5.73</td>\n",
       "      <td>18.91</td>\n",
       "    </tr>\n",
       "    <tr>\n",
       "      <th>99</th>\n",
       "      <td>1.60</td>\n",
       "      <td>36.30</td>\n",
       "      <td>4.19</td>\n",
       "      <td>18.24</td>\n",
       "    </tr>\n",
       "    <tr>\n",
       "      <th>100</th>\n",
       "      <td>13.06</td>\n",
       "      <td>2.58</td>\n",
       "      <td>0.75</td>\n",
       "      <td>9.12</td>\n",
       "    </tr>\n",
       "  </tbody>\n",
       "</table>\n",
       "<p>100 rows × 4 columns</p>\n",
       "</div>"
      ],
      "text/plain": [
       "         F      G     H      I\n",
       "1    27.42  24.02  0.00   9.96\n",
       "2   -11.29  20.90  4.67   5.66\n",
       "3     7.26 -20.06  6.34  15.53\n",
       "4    12.66  36.97  8.12   6.08\n",
       "5     8.09 -13.34  1.25  10.31\n",
       "..     ...    ...   ...    ...\n",
       "96  -17.22  21.72  3.05  14.14\n",
       "97  -22.63   8.08  3.67  10.70\n",
       "98  -29.18  11.73  5.73  18.91\n",
       "99    1.60  36.30  4.19  18.24\n",
       "100  13.06   2.58  0.75   9.12\n",
       "\n",
       "[100 rows x 4 columns]"
      ]
     },
     "execution_count": 43,
     "metadata": {},
     "output_type": "execute_result"
    }
   ],
   "source": [
    "# load datafile\n",
    "\n",
    "df = P.read_csv('./simulated_data_2_5.csv',\n",
    "           # field separator character\n",
    "           sep=\",\",\n",
    "           # missing value characters\n",
    "           na_values=[\"?\"],\n",
    "           # no row names\n",
    "           index_col=0,\n",
    "           # no column names\n",
    "           header=0,\n",
    "           # quote character\n",
    "           quotechar=\"\\\"\")\n",
    "df"
   ]
  },
  {
   "cell_type": "code",
   "execution_count": 44,
   "metadata": {},
   "outputs": [
    {
     "name": "stdout",
     "output_type": "stream",
     "text": [
      "0.16530661284923553\n",
      "0.4589977264404297\n",
      "0.9414567351341248\n",
      "0.0012272947933524847\n"
     ]
    }
   ],
   "source": [
    "# Shapiro-Wilk tests\n",
    "\n",
    "p_F = S.shapiro(df['F']).pvalue\n",
    "print(p_F)\n",
    "\n",
    "p_G = S.shapiro(df['G']).pvalue\n",
    "print(p_G)\n",
    "\n",
    "p_H = S.shapiro(df['H']).pvalue\n",
    "print(p_H)\n",
    "\n",
    "p_I = S.shapiro(df['I']).pvalue\n",
    "print(p_I)"
   ]
  },
  {
   "cell_type": "code",
   "execution_count": 45,
   "metadata": {},
   "outputs": [
    {
     "data": {
      "text/plain": [
       "PearsonRResult(statistic=0.031276709760819636, pvalue=0.7573896651044831)"
      ]
     },
     "execution_count": 45,
     "metadata": {},
     "output_type": "execute_result"
    }
   ],
   "source": [
    "# a)\n",
    "\n",
    "# both F and G are propably normally distributed -> Pearsons\n",
    "\n",
    "S.pearsonr(df['F'], df['G'])"
   ]
  },
  {
   "cell_type": "code",
   "execution_count": 46,
   "metadata": {},
   "outputs": [
    {
     "data": {
      "text/plain": [
       "PearsonRResult(statistic=-0.14484643591125076, pvalue=0.1504771286020554)"
      ]
     },
     "execution_count": 46,
     "metadata": {},
     "output_type": "execute_result"
    }
   ],
   "source": [
    "# b)\n",
    "\n",
    "# both F and H are propably normally distributed -> Pearsons\n",
    "\n",
    "S.pearsonr(df['F'], df['H'])"
   ]
  },
  {
   "cell_type": "code",
   "execution_count": 47,
   "metadata": {},
   "outputs": [
    {
     "data": {
      "text/plain": [
       "SignificanceResult(statistic=0.09838701934793813, pvalue=0.33012316364786476)"
      ]
     },
     "execution_count": 47,
     "metadata": {},
     "output_type": "execute_result"
    }
   ],
   "source": [
    "# c)\n",
    "\n",
    "# I is not normally distributed -> Spearmans\n",
    "\n",
    "S.spearmanr(df['F'], df['I'])"
   ]
  }
 ],
 "metadata": {
  "kernelspec": {
   "display_name": "Python 3",
   "language": "python",
   "name": "python3"
  },
  "language_info": {
   "codemirror_mode": {
    "name": "ipython",
    "version": 3
   },
   "file_extension": ".py",
   "mimetype": "text/x-python",
   "name": "python",
   "nbconvert_exporter": "python",
   "pygments_lexer": "ipython3",
   "version": "3.10.2"
  },
  "orig_nbformat": 4
 },
 "nbformat": 4,
 "nbformat_minor": 2
}
