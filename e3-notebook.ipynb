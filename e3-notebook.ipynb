{
 "cells": [
  {
   "cell_type": "markdown",
   "metadata": {},
   "source": [
    "<h1>Exercise 3</h1>"
   ]
  },
  {
   "cell_type": "code",
   "execution_count": 7,
   "metadata": {},
   "outputs": [],
   "source": [
    "# imports\n",
    "\n",
    "import numpy as N\n",
    "import pandas as P\n",
    "import scipy.stats as S"
   ]
  },
  {
   "cell_type": "markdown",
   "metadata": {},
   "source": [
    "<h2>1.</h2>"
   ]
  },
  {
   "cell_type": "code",
   "execution_count": 8,
   "metadata": {},
   "outputs": [],
   "source": [
    "# create dataset vectors\n",
    "\n",
    "A = P.Series([33, 23, 51, 47, 34])\n",
    "\n",
    "B = P.Series([48, 27, 33, 45, 41, 35])\n",
    "\n",
    "C = P.Series([34, 53, 54, 28, 52, 29])"
   ]
  },
  {
   "cell_type": "markdown",
   "metadata": {},
   "source": [
    "Find P-values for suitable statistical test comparing A&B, A&C and B&C. Justify your\n",
    "selection of the test."
   ]
  },
  {
   "cell_type": "code",
   "execution_count": 9,
   "metadata": {},
   "outputs": [
    {
     "name": "stdout",
     "output_type": "stream",
     "text": [
      "0.655329704284668\n",
      "0.8777003288269043\n",
      "0.048212990164756775\n"
     ]
    }
   ],
   "source": [
    "# first lets check if datasets are normally distributed with shapiro-wilk-test\n",
    "\n",
    "p_A = S.shapiro(A).pvalue\n",
    "print(p_A)\n",
    "\n",
    "p_B = S.shapiro(B).pvalue\n",
    "print(p_B)\n",
    "\n",
    "p_C = S.shapiro(C).pvalue\n",
    "print(p_C)"
   ]
  },
  {
   "cell_type": "markdown",
   "metadata": {},
   "source": [
    "Null hypothesis can only be rejected for dataset C, so we'll assume that datasets A and B are normally distributed and C is not. (cannot be sure because of very small sample size)"
   ]
  },
  {
   "cell_type": "markdown",
   "metadata": {},
   "source": [
    "Finding p-values for suitable tests"
   ]
  },
  {
   "cell_type": "code",
   "execution_count": 11,
   "metadata": {},
   "outputs": [
    {
     "data": {
      "text/plain": [
       "TtestResult(statistic=-0.09756393228543812, pvalue=0.9244167905269259, df=9.0)"
      ]
     },
     "execution_count": 11,
     "metadata": {},
     "output_type": "execute_result"
    }
   ],
   "source": [
    "# A&B\n",
    "\n",
    "# Unpaired students t-test, because two normal unpaired variables\n",
    "\n",
    "S.ttest_ind(A, B)\n"
   ]
  },
  {
   "cell_type": "code",
   "execution_count": 12,
   "metadata": {},
   "outputs": [
    {
     "data": {
      "text/plain": [
       "MannwhitneyuResult(statistic=10.5, pvalue=0.46419164680396885)"
      ]
     },
     "execution_count": 12,
     "metadata": {},
     "output_type": "execute_result"
    }
   ],
   "source": [
    "# A&C\n",
    "\n",
    "# Because C is not normally distributed and variables are unpaired we'll use Mann-Whitney U test\n",
    "\n",
    "S.mannwhitneyu(A, C, use_continuity=True, alternative='two-sided')"
   ]
  },
  {
   "cell_type": "code",
   "execution_count": 13,
   "metadata": {},
   "outputs": [
    {
     "data": {
      "text/plain": [
       "WilcoxonResult(statistic=8.0, pvalue=0.6875)"
      ]
     },
     "execution_count": 13,
     "metadata": {},
     "output_type": "execute_result"
    }
   ],
   "source": [
    "# B&C\n",
    "\n",
    "# Variable can be paired and C is not normally distributed -> Wilcoxon signed-rank test\n",
    "\n",
    "S.wilcoxon(B, C, correction=True)"
   ]
  },
  {
   "cell_type": "markdown",
   "metadata": {},
   "source": [
    "<h2>2.</h2>"
   ]
  },
  {
   "cell_type": "markdown",
   "metadata": {},
   "source": [
    "<h3>Article 2</h3>"
   ]
  },
  {
   "cell_type": "markdown",
   "metadata": {},
   "source": [
    "a)\n",
    "two tailed-Wilcoxon rank-sum tests\n",
    "\n",
    "b)\n",
    "two-tailed Wilcoxon rank-sum tests\n",
    "\n",
    "c)\n",
    "One-way ANOVA with post hoc Bonferroni correction\n",
    "\n",
    "d)\n",
    "Two-tailed Student’s t-test"
   ]
  },
  {
   "cell_type": "markdown",
   "metadata": {},
   "source": [
    "<h3>Article 3</h3>"
   ]
  },
  {
   "cell_type": "markdown",
   "metadata": {},
   "source": [
    "There are a different number of observations or units in the training and test sets so cohorts must be unpaired. There are many different kinds of variables so different tests were used. \n",
    "\n",
    "I think Pearson's chi-squared test was user for categorical variables such as sex, history of CVD, race, statin use, aspirin use and smoking. \n",
    "\n",
    "Then either unpaired Student's t test or unpaired Mann-Whitney U test was used for the rest of the variables depending on if they were normally distributed or not."
   ]
  },
  {
   "cell_type": "markdown",
   "metadata": {},
   "source": [
    "<h2>3.</h2>"
   ]
  },
  {
   "cell_type": "code",
   "execution_count": 14,
   "metadata": {},
   "outputs": [],
   "source": [
    "# create vectors\n",
    "\n",
    "DT = P.Series([5.6, 3.1, 8.7, 4.5, 6.7, 4.5])\n",
    "DR = P.Series([6.1, 5.8, 8.5, 5.3, 7.2, 5.1])\n",
    "\n",
    "ET = P.Series([4.5, 3.9, 7.1, 4.3, 6.9, 8.2, 7.6])\n",
    "ER = P.Series([4.9, 4.7, 7.8, 4.8, 7.5, 7.8, 8.1])"
   ]
  },
  {
   "cell_type": "code",
   "execution_count": 15,
   "metadata": {},
   "outputs": [
    {
     "name": "stdout",
     "output_type": "stream",
     "text": [
      "0.8002392649650574\n",
      "0.3768615424633026\n",
      "0.16666603088378906\n",
      "0.014585546217858791\n"
     ]
    }
   ],
   "source": [
    "# Shapiro-Wilk tests\n",
    "\n",
    "p_DT = S.shapiro(DT).pvalue\n",
    "print(p_DT)\n",
    "\n",
    "p_DR = S.shapiro(DR).pvalue\n",
    "print(p_DR)\n",
    "\n",
    "p_ET = S.shapiro(ET).pvalue\n",
    "print(p_ET)\n",
    "\n",
    "p_ER = S.shapiro(ER).pvalue\n",
    "print(p_ER)"
   ]
  }
 ],
 "metadata": {
  "kernelspec": {
   "display_name": "Python 3",
   "language": "python",
   "name": "python3"
  },
  "language_info": {
   "codemirror_mode": {
    "name": "ipython",
    "version": 3
   },
   "file_extension": ".py",
   "mimetype": "text/x-python",
   "name": "python",
   "nbconvert_exporter": "python",
   "pygments_lexer": "ipython3",
   "version": "3.10.2"
  },
  "orig_nbformat": 4
 },
 "nbformat": 4,
 "nbformat_minor": 2
}
